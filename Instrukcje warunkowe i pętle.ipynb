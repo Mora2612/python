{
 "cells": [
  {
   "cell_type": "code",
   "execution_count": 1,
   "id": "e72ef7ed-8eaa-496d-8b3c-c5aee3f926a2",
   "metadata": {},
   "outputs": [
    {
     "name": "stdout",
     "output_type": "stream",
     "text": [
      "W sam raz\n",
      "7 jest nieparzysta\n",
      "1\n",
      "2\n",
      "3\n",
      "4\n",
      "5\n",
      "6\n",
      "7\n",
      "8\n",
      "9\n",
      "10\n",
      "Iteracja 1\n",
      "Iteracja 2\n",
      "Iteracja 3\n",
      "Iteracja 4\n",
      "Iteracja 5\n"
     ]
    }
   ],
   "source": [
    "temperature = 17\n",
    "\n",
    "if temperature > 25:\n",
    "    print(\"Ciepło\")\n",
    "elif temperature > 15:\n",
    "    print(\"W sam raz\")\n",
    "else:\n",
    "    print(\"Chłodno\")\n",
    "\n",
    "number = 7\n",
    "\n",
    "if number % 2 == 0:\n",
    "    print(f\"{number} jest parzysta\")\n",
    "else:\n",
    "    print(f\"{number} jest nieparzysta\")\n",
    "\n",
    "for i in range(1, 11):\n",
    "    print(i)\n",
    "\n",
    "counter = 1\n",
    "while counter <= 5:\n",
    "    print(f\"Iteracja {counter}\")\n",
    "    counter += 1\n"
   ]
  },
  {
   "cell_type": "code",
   "execution_count": null,
   "id": "9acbdcf3-7eda-441f-af90-1a2815b38957",
   "metadata": {},
   "outputs": [],
   "source": []
  }
 ],
 "metadata": {
  "kernelspec": {
   "display_name": "Python 3 (ipykernel)",
   "language": "python",
   "name": "python3"
  },
  "language_info": {
   "codemirror_mode": {
    "name": "ipython",
    "version": 3
   },
   "file_extension": ".py",
   "mimetype": "text/x-python",
   "name": "python",
   "nbconvert_exporter": "python",
   "pygments_lexer": "ipython3",
   "version": "3.13.2"
  }
 },
 "nbformat": 4,
 "nbformat_minor": 5
}
