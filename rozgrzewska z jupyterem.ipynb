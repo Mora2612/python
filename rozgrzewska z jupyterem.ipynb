{
 "cells": [
  {
   "cell_type": "markdown",
   "id": "699c5a2a-931f-4513-940d-dda4f5973b26",
   "metadata": {},
   "source": [
    "Marcel, Informatyka, GitHub: Mora2612"
   ]
  },
  {
   "cell_type": "code",
   "execution_count": null,
   "id": "eb28ceb3-26aa-4bbb-a63a-fc48d521b300",
   "metadata": {},
   "outputs": [],
   "source": [
    "print \"print(\"Hello, Data Science!\") "
   ]
  }
 ],
 "metadata": {
  "kernelspec": {
   "display_name": "Python 3 (ipykernel)",
   "language": "python",
   "name": "python3"
  },
  "language_info": {
   "codemirror_mode": {
    "name": "ipython",
    "version": 3
   },
   "file_extension": ".py",
   "mimetype": "text/x-python",
   "name": "python",
   "nbconvert_exporter": "python",
   "pygments_lexer": "ipython3",
   "version": "3.13.2"
  }
 },
 "nbformat": 4,
 "nbformat_minor": 5
}
