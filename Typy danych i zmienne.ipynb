{
 "cells": [
  {
   "cell_type": "code",
   "execution_count": 2,
   "id": "ef037493-45c6-4a05-ae9a-614a24810c95",
   "metadata": {},
   "outputs": [
    {
     "name": "stdout",
     "output_type": "stream",
     "text": [
      "<class 'int'>\n",
      "<class 'float'>\n",
      "<class 'str'>\n",
      "<class 'bool'>\n",
      "13.5\n",
      "2.857142857142857\n",
      "100\n",
      "Python 10\n",
      "Wartość a to 10, a b to 3.5\n"
     ]
    }
   ],
   "source": [
    "\n",
    "a = 10\n",
    "b = 3.5\n",
    "c = \"Python\"\n",
    "d = True\n",
    "\n",
    "\n",
    "print(type(a))\n",
    "print(type(b))\n",
    "print(type(c))\n",
    "print(type(d))\n",
    "\n",
    "print(a + b)      \n",
    "print(a / b)\n",
    "print(a ** 2)\n",
    "\n",
    "print(f\"{c} {a}\")\n",
    "print(f\"Wartość a to {a}, a b to {b}\")\n"
   ]
  },
  {
   "cell_type": "code",
   "execution_count": null,
   "id": "47f956db-eeee-48ae-a281-1faf40f0e649",
   "metadata": {},
   "outputs": [],
   "source": []
  }
 ],
 "metadata": {
  "kernelspec": {
   "display_name": "Python 3 (ipykernel)",
   "language": "python",
   "name": "python3"
  },
  "language_info": {
   "codemirror_mode": {
    "name": "ipython",
    "version": 3
   },
   "file_extension": ".py",
   "mimetype": "text/x-python",
   "name": "python",
   "nbconvert_exporter": "python",
   "pygments_lexer": "ipython3",
   "version": "3.13.2"
  }
 },
 "nbformat": 4,
 "nbformat_minor": 5
}
